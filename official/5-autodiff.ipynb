{
 "cells": [
  {
   "cell_type": "code",
   "execution_count": 1,
   "metadata": {},
   "outputs": [
    {
     "name": "stdout",
     "output_type": "stream",
     "text": [
      "0.070650935\n"
     ]
    }
   ],
   "source": [
    "import jax\n",
    "import jax.numpy as jnp\n",
    "from jax import grad\n",
    "\n",
    "grad_tanh = grad(jnp.tanh)\n",
    "print(grad_tanh(2.0))"
   ]
  },
  {
   "cell_type": "code",
   "execution_count": 2,
   "metadata": {},
   "outputs": [
    {
     "name": "stdout",
     "output_type": "stream",
     "text": [
      "-0.13621888\n",
      "0.2526544\n"
     ]
    }
   ],
   "source": [
    "print(grad(grad(jnp.tanh))(2.0))\n",
    "print(grad(grad(grad(jnp.tanh)))(2.0))"
   ]
  },
  {
   "cell_type": "code",
   "execution_count": 3,
   "metadata": {},
   "outputs": [],
   "source": [
    "f = lambda x: x**3 + 2 * x**2 - 3 * x + 1\n",
    "\n",
    "dfdx = jax.grad(f)"
   ]
  },
  {
   "cell_type": "code",
   "execution_count": 4,
   "metadata": {},
   "outputs": [],
   "source": [
    "d2fdx = jax.grad(dfdx)\n",
    "d3fdx = jax.grad(d2fdx)\n",
    "d4fdx = jax.grad(d3fdx)"
   ]
  },
  {
   "cell_type": "code",
   "execution_count": null,
   "metadata": {},
   "outputs": [
    {
     "name": "stdout",
     "output_type": "stream",
     "text": [
      "4.0\n",
      "10.0\n",
      "6.0\n",
      "0.0\n"
     ]
    }
   ],
   "source": [
    "print(dfdx(1.0))\n",
    "print(d2fdx(1.0))\n",
    "print(d3fdx(1.0))\n",
    "print(d4fdx(1.0))"
   ]
  },
  {
   "cell_type": "code",
   "execution_count": null,
   "metadata": {},
   "outputs": [
    {
     "name": "stdout",
     "output_type": "stream",
     "text": [
      "W_grad=Array([-0.16965583, -0.8774647 , -1.4901344 ], dtype=float32)\n",
      "W_grad=Array([-0.16965583, -0.8774647 , -1.4901344 ], dtype=float32)\n",
      "b_grad=Array(-0.29227245, dtype=float32)\n",
      "W_grad=Array([-0.16965583, -0.8774647 , -1.4901344 ], dtype=float32)\n",
      "b_grad=Array(-0.29227245, dtype=float32)\n"
     ]
    }
   ],
   "source": [
    "key = jax.random.key(0)\n",
    "\n",
    "\n",
    "def sigmoid(x):\n",
    "    return 0.5 * (jnp.tanh(x / 2) + 1)\n",
    "\n",
    "\n",
    "# Outputs probability of a label being true.\n",
    "def predict(W, b, inputs):\n",
    "    return sigmoid(jnp.dot(inputs, W) + b)\n",
    "\n",
    "\n",
    "# Build a toy dataset.\n",
    "inputs = jnp.array(\n",
    "    [[0.52, 1.12, 0.77], [0.88, -1.08, 0.15], [0.52, 0.06, -1.30], [0.74, -2.49, 1.39]]\n",
    ")\n",
    "targets = jnp.array([True, True, False, True])\n",
    "\n",
    "\n",
    "# Training loss is the negative log-likelihood of the training examples.\n",
    "def loss(W, b):\n",
    "    preds = predict(W, b, inputs)\n",
    "    label_probs = preds * targets + (1 - preds) * (1 - targets)\n",
    "    return -jnp.sum(jnp.log(label_probs))\n",
    "\n",
    "\n",
    "# Initialize random model coefficients\n",
    "key, W_key, b_key = jax.random.split(key, 3)\n",
    "W = jax.random.normal(W_key, (3,))\n",
    "b = jax.random.normal(b_key, ())\n",
    "\n",
    "# Differentiate `loss` with respect to the first positional argument:\n",
    "W_grad = grad(loss, argnums=0)(W, b)  # paritial dirivative?\n",
    "print(f\"{W_grad=}\")\n",
    "\n",
    "# Since argnums=0 is the default, this does the same thing:\n",
    "W_grad = grad(loss)(W, b)\n",
    "print(f\"{W_grad=}\")\n",
    "\n",
    "# But you can choose different values too, and drop the keyword:\n",
    "b_grad = grad(loss, 1)(W, b)\n",
    "print(f\"{b_grad=}\")\n",
    "\n",
    "# Including tuple values\n",
    "W_grad, b_grad = grad(loss, (0, 1))(W, b)\n",
    "print(f\"{W_grad=}\")\n",
    "print(f\"{b_grad=}\")"
   ]
  },
  {
   "cell_type": "code",
   "execution_count": null,
   "metadata": {},
   "outputs": [
    {
     "name": "stdout",
     "output_type": "stream",
     "text": [
      "{'W': Array([-0.16965583, -0.8774647 , -1.4901344 ], dtype=float32), 'b': Array(-0.29227245, dtype=float32)}\n"
     ]
    }
   ],
   "source": [
    "def loss2(params_dict):\n",
    "    preds = predict(params_dict[\"W\"], params_dict[\"b\"], inputs)\n",
    "    label_probs = preds * targets + (1 - preds) * (1 - targets)\n",
    "    return -jnp.sum(jnp.log(label_probs))\n",
    "\n",
    "\n",
    "print(grad(loss2)({\"W\": W, \"b\": b}))"
   ]
  },
  {
   "cell_type": "code",
   "execution_count": null,
   "metadata": {},
   "outputs": [
    {
     "name": "stdout",
     "output_type": "stream",
     "text": [
      "loss value 3.051939\n",
      "loss value 3.051939\n"
     ]
    }
   ],
   "source": [
    "loss_value, Wb_grad = jax.value_and_grad(loss, (0, 1))(W, b)\n",
    "print(\"loss value\", loss_value)\n",
    "print(\"loss value\", loss(W, b))"
   ]
  },
  {
   "cell_type": "code",
   "execution_count": 9,
   "metadata": {},
   "outputs": [
    {
     "name": "stdout",
     "output_type": "stream",
     "text": [
      "b_grad_numerical -0.29563904\n",
      "b_grad_autodiff -0.29227245\n",
      "W_dirderiv_numerical -0.19788742\n",
      "W_dirderiv_autodiff -0.19909099\n"
     ]
    }
   ],
   "source": [
    "# Set a step size for finite differences calculations\n",
    "eps = 1e-4\n",
    "\n",
    "# Check b_grad with scalar finite differences\n",
    "b_grad_numerical = (loss(W, b + eps / 2.0) - loss(W, b - eps / 2.0)) / eps\n",
    "print(\"b_grad_numerical\", b_grad_numerical)\n",
    "print(\"b_grad_autodiff\", grad(loss, 1)(W, b))\n",
    "\n",
    "# Check W_grad with finite differences in a random direction\n",
    "key, subkey = jax.random.split(key)\n",
    "vec = jax.random.normal(subkey, W.shape)\n",
    "unitvec = vec / jnp.sqrt(jnp.vdot(vec, vec))\n",
    "W_grad_numerical = (\n",
    "    loss(W + eps / 2.0 * unitvec, b) - loss(W - eps / 2.0 * unitvec, b)\n",
    ") / eps\n",
    "print(\"W_dirderiv_numerical\", W_grad_numerical)\n",
    "print(\"W_dirderiv_autodiff\", jnp.vdot(grad(loss)(W, b), unitvec))"
   ]
  },
  {
   "cell_type": "code",
   "execution_count": 10,
   "metadata": {},
   "outputs": [],
   "source": [
    "from jax.test_util import check_grads\n",
    "\n",
    "check_grads(loss, (W, b), order=2)  # check up to 2nd order derivatives"
   ]
  }
 ],
 "metadata": {
  "kernelspec": {
   "display_name": ".venv",
   "language": "python",
   "name": "python3"
  },
  "language_info": {
   "codemirror_mode": {
    "name": "ipython",
    "version": 3
   },
   "file_extension": ".py",
   "mimetype": "text/x-python",
   "name": "python",
   "nbconvert_exporter": "python",
   "pygments_lexer": "ipython3",
   "version": "3.10.15"
  }
 },
 "nbformat": 4,
 "nbformat_minor": 2
}
