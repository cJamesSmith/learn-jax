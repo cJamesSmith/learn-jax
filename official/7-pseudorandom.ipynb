{
 "cells": [
  {
   "cell_type": "code",
   "execution_count": 1,
   "metadata": {},
   "outputs": [
    {
     "name": "stdout",
     "output_type": "stream",
     "text": [
      "('MT19937', array([         0,          1, 1812433255, 1900727105, 1208447044,\n",
      "       2481403966, 4042607538,  337614300, 3232553940, 1018809052,\n",
      "       3202401494, 1775180719, 3192392114,  594215549,  184016991,\n",
      "        829906058,  610491522, 3879932251, 3139825610,  297902587,\n",
      "       4075895579, 2943625357, 3530655617, 1423771745, 2135928312,\n",
      "       2891506774, 1066338622,  135451537,  933040465, 2759011858,\n",
      "       2273819758, 3545703099, 2516396728, 127 ...\n"
     ]
    }
   ],
   "source": [
    "import numpy as np\n",
    "\n",
    "np.random.seed(0)\n",
    "\n",
    "\n",
    "def print_truncated_random_state():\n",
    "    \"\"\"To avoid spamming the outputs, print only part of the state.\"\"\"\n",
    "    full_random_state = np.random.get_state()\n",
    "    print(str(full_random_state)[:460], \"...\")\n",
    "\n",
    "\n",
    "print_truncated_random_state()"
   ]
  },
  {
   "cell_type": "code",
   "execution_count": 2,
   "metadata": {},
   "outputs": [
    {
     "name": "stdout",
     "output_type": "stream",
     "text": [
      "('MT19937', array([         0,          1, 1812433255, 1900727105, 1208447044,\n",
      "       2481403966, 4042607538,  337614300, 3232553940, 1018809052,\n",
      "       3202401494, 1775180719, 3192392114,  594215549,  184016991,\n",
      "        829906058,  610491522, 3879932251, 3139825610,  297902587,\n",
      "       4075895579, 2943625357, 3530655617, 1423771745, 2135928312,\n",
      "       2891506774, 1066338622,  135451537,  933040465, 2759011858,\n",
      "       2273819758, 3545703099, 2516396728, 127 ...\n"
     ]
    }
   ],
   "source": [
    "np.random.seed(0)\n",
    "print_truncated_random_state()"
   ]
  },
  {
   "cell_type": "code",
   "execution_count": 3,
   "metadata": {},
   "outputs": [
    {
     "name": "stdout",
     "output_type": "stream",
     "text": [
      "('MT19937', array([2443250962, 1093594115, 1878467924, 2709361018, 1101979660,\n",
      "       3904844661,  676747479, 2085143622, 1056793272, 3812477442,\n",
      "       2168787041,  275552121, 2696932952, 3432054210, 1657102335,\n",
      "       3518946594,  962584079, 1051271004, 3806145045, 1414436097,\n",
      "       2032348584, 1661738718, 1116708477, 2562755208, 3176189976,\n",
      "        696824676, 2399811678, 3992505346,  569184356, 2626558620,\n",
      "        136797809, 4273176064,  296167901, 343 ...\n"
     ]
    }
   ],
   "source": [
    "_ = np.random.uniform()\n",
    "print_truncated_random_state()"
   ]
  },
  {
   "cell_type": "code",
   "execution_count": 4,
   "metadata": {},
   "outputs": [
    {
     "name": "stdout",
     "output_type": "stream",
     "text": [
      "[0.5488135  0.71518937 0.60276338]\n"
     ]
    }
   ],
   "source": [
    "np.random.seed(0)\n",
    "print(np.random.uniform(size=3))"
   ]
  },
  {
   "cell_type": "code",
   "execution_count": 5,
   "metadata": {},
   "outputs": [
    {
     "name": "stdout",
     "output_type": "stream",
     "text": [
      "individually: [0.5488135  0.71518937 0.60276338]\n",
      "all at once:  [0.5488135  0.71518937 0.60276338]\n"
     ]
    }
   ],
   "source": [
    "np.random.seed(0)\n",
    "print(\"individually:\", np.stack([np.random.uniform() for _ in range(3)]))\n",
    "\n",
    "np.random.seed(0)\n",
    "print(\"all at once: \", np.random.uniform(size=3))"
   ]
  },
  {
   "cell_type": "markdown",
   "metadata": {},
   "source": [
    "## Random numbers in JAX\n",
    "\n",
    "JAX’s random number generation differs from NumPy’s in important ways, because NumPy’s PRNG design makes it hard to simultaneously guarantee a number of desirable properties. Specifically, in JAX we want PRNG generation to be:\n",
    "\n",
    "1. reproducible,\n",
    "\n",
    "2. parallelizable,\n",
    "\n",
    "3. vectorisable.\n",
    "\n",
    "We will discuss why in the following. First, we will focus on the implications of a PRNG design based on a global state. Consider the code:"
   ]
  },
  {
   "cell_type": "code",
   "execution_count": 6,
   "metadata": {},
   "outputs": [
    {
     "name": "stdout",
     "output_type": "stream",
     "text": [
      "1.9791922366721637\n"
     ]
    }
   ],
   "source": [
    "import numpy as np\n",
    "\n",
    "np.random.seed(0)\n",
    "\n",
    "\n",
    "def bar():\n",
    "    return np.random.uniform()\n",
    "\n",
    "\n",
    "def baz():\n",
    "    return np.random.uniform()\n",
    "\n",
    "\n",
    "def foo():\n",
    "    return bar() + 2 * baz()\n",
    "\n",
    "\n",
    "print(foo())"
   ]
  },
  {
   "cell_type": "markdown",
   "metadata": {},
   "source": [
    "The output of this code can only satisfy requirement #1 if we assume a predictable order of execution for `bar()` and `baz()`. This is not a problem in NumPy, which always evaluates code in the order defined by the Python interpreter. In JAX, however, this is more problematic: for efficient execution, we want the JIT compiler to be free to reorder, elide, and fuse various operations in the function we define. Further, when executing in multi-device environments, execution efficiency would be hampered by the need for each process to synchronize a global state.\n",
    "\n",
    "To avoid this issue, JAX avoids implicit global random state, and instead tracks state explicitly via a random `key`:"
   ]
  },
  {
   "cell_type": "code",
   "execution_count": 7,
   "metadata": {},
   "outputs": [
    {
     "name": "stdout",
     "output_type": "stream",
     "text": [
      "Array((), dtype=key<fry>) overlaying:\n",
      "[ 0 42]\n"
     ]
    }
   ],
   "source": [
    "from jax import random\n",
    "\n",
    "key = random.key(42)\n",
    "print(key)"
   ]
  },
  {
   "cell_type": "code",
   "execution_count": 8,
   "metadata": {},
   "outputs": [
    {
     "name": "stdout",
     "output_type": "stream",
     "text": [
      "-0.18471177\n",
      "-0.18471177\n"
     ]
    }
   ],
   "source": [
    "print(random.normal(key))\n",
    "print(random.normal(key))"
   ]
  },
  {
   "cell_type": "code",
   "execution_count": 9,
   "metadata": {},
   "outputs": [
    {
     "name": "stdout",
     "output_type": "stream",
     "text": [
      "draw 0: 1.369469404220581\n",
      "draw 1: -0.19947023689746857\n",
      "draw 2: -2.298278331756592\n"
     ]
    }
   ],
   "source": [
    "for i in range(3):\n",
    "    new_key, subkey = random.split(key)\n",
    "    del key  # The old key is consumed by split() -- we must never use it again.\n",
    "\n",
    "    val = random.normal(subkey)\n",
    "    del subkey  # The subkey is consumed by normal().\n",
    "\n",
    "    print(f\"draw {i}: {val}\")\n",
    "    key = new_key  # new_key is safe to use in the next iteration."
   ]
  },
  {
   "cell_type": "code",
   "execution_count": 10,
   "metadata": {},
   "outputs": [],
   "source": [
    "key, subkey = random.split(key)  # which discards the old key automatically.\n",
    "key, *forty_two_subkeys = random.split(\n",
    "    key, num=43\n",
    ")  # create as many keys as you need, not just 2:"
   ]
  },
  {
   "cell_type": "markdown",
   "metadata": {},
   "source": [
    "## Lack of sequential equivalence\n",
    "Another difference between NumPy’s and JAX’s random modules relates to the sequential equivalence guarantee mentioned above.\n",
    "\n",
    "As in NumPy, JAX’s random module also allows sampling of vectors of numbers. However, JAX does not provide a sequential equivalence guarantee, because doing so would interfere with the vectorization on SIMD hardware (requirement #3 above).\n",
    "\n",
    "In the example below, sampling 3 values out of a normal distribution individually using three subkeys gives a different result to using giving a single key and specifying shape=(3,):"
   ]
  },
  {
   "cell_type": "code",
   "execution_count": 11,
   "metadata": {},
   "outputs": [
    {
     "name": "stdout",
     "output_type": "stream",
     "text": [
      "individually: [-0.04838832  0.10796154 -1.2226542 ]\n",
      "all at once:  [ 0.18693547 -1.2806505  -1.5593132 ]\n"
     ]
    }
   ],
   "source": [
    "key = random.key(42)\n",
    "subkeys = random.split(key, 3)\n",
    "sequence = np.stack([random.normal(subkey) for subkey in subkeys])\n",
    "print(\"individually:\", sequence)\n",
    "\n",
    "key = random.key(42)\n",
    "print(\"all at once: \", random.normal(key, shape=(3,)))"
   ]
  },
  {
   "cell_type": "code",
   "execution_count": 12,
   "metadata": {},
   "outputs": [
    {
     "name": "stdout",
     "output_type": "stream",
     "text": [
      "vectorized: [-0.04838832  0.10796154 -1.2226542 ]\n"
     ]
    }
   ],
   "source": [
    "import jax\n",
    "print(\"vectorized:\", jax.vmap(random.normal)(subkeys))"
   ]
  },
  {
   "cell_type": "code",
   "execution_count": null,
   "metadata": {},
   "outputs": [],
   "source": []
  }
 ],
 "metadata": {
  "kernelspec": {
   "display_name": ".venv",
   "language": "python",
   "name": "python3"
  },
  "language_info": {
   "codemirror_mode": {
    "name": "ipython",
    "version": 3
   },
   "file_extension": ".py",
   "mimetype": "text/x-python",
   "name": "python",
   "nbconvert_exporter": "python",
   "pygments_lexer": "ipython3",
   "version": "3.10.15"
  }
 },
 "nbformat": 4,
 "nbformat_minor": 2
}
