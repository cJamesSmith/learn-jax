{
 "cells": [
  {
   "cell_type": "markdown",
   "metadata": {},
   "source": [
    "# `jax.debug.print` for simple inspection\n",
    "\n",
    "Here is a rule of thumb:\n",
    "\n",
    "- Use `jax.debug.print()` for traced (dynamic) array values with `jax.jit()`, `jax.vmap()` and others.\n",
    "\n",
    "- Use Python `print()` for static values, such as dtypes and array shapes.\n",
    "\n",
    "Recall from Just-in-time compilation that when transforming a function with `jax.jit()`, the Python code is executed with abstract tracers in place of your arrays. Because of this, the Python `print()` function will only print this tracer value:"
   ]
  },
  {
   "cell_type": "code",
   "execution_count": 2,
   "metadata": {},
   "outputs": [
    {
     "name": "stdout",
     "output_type": "stream",
     "text": [
      "print(x) -> Traced<ShapedArray(float32[], weak_type=True)>with<DynamicJaxprTrace(level=1/0)>\n",
      "print(y) -> Traced<ShapedArray(float32[], weak_type=True)>with<DynamicJaxprTrace(level=1/0)>\n"
     ]
    }
   ],
   "source": [
    "import jax\n",
    "import jax.numpy as jnp\n",
    "\n",
    "\n",
    "@jax.jit\n",
    "def f(x):\n",
    "    print(\"print(x) ->\", x)\n",
    "    y = jnp.sin(x)\n",
    "    print(\"print(y) ->\", y)\n",
    "    return y\n",
    "\n",
    "\n",
    "result = f(2.0)"
   ]
  },
  {
   "cell_type": "code",
   "execution_count": 3,
   "metadata": {},
   "outputs": [
    {
     "name": "stdout",
     "output_type": "stream",
     "text": [
      "jax.debug.print(y) -> 0.9092974662780762\n",
      "jax.debug.print(x) -> 2.0\n"
     ]
    }
   ],
   "source": [
    "@jax.jit\n",
    "def f(x):\n",
    "    jax.debug.print(\"jax.debug.print(x) -> {x}\", x=x)\n",
    "    y = jnp.sin(x)\n",
    "    jax.debug.print(\"jax.debug.print(y) -> {y}\", y=y)\n",
    "    return y\n",
    "\n",
    "\n",
    "result = f(2.0)"
   ]
  },
  {
   "cell_type": "code",
   "execution_count": 4,
   "metadata": {},
   "outputs": [
    {
     "name": "stdout",
     "output_type": "stream",
     "text": [
      "jax.debug.print(x) -> 0.0\n",
      "jax.debug.print(x) -> 1.0\n",
      "jax.debug.print(x) -> 2.0\n",
      "jax.debug.print(y) -> 0.0\n",
      "jax.debug.print(y) -> 0.8414710164070129\n",
      "jax.debug.print(y) -> 0.9092974662780762\n"
     ]
    }
   ],
   "source": [
    "def f(x):\n",
    "    jax.debug.print(\"jax.debug.print(x) -> {}\", x)\n",
    "    y = jnp.sin(x)\n",
    "    jax.debug.print(\"jax.debug.print(y) -> {}\", y)\n",
    "    return y\n",
    "\n",
    "\n",
    "xs = jnp.arange(3.0)\n",
    "\n",
    "result = jax.vmap(f)(xs)"
   ]
  },
  {
   "cell_type": "code",
   "execution_count": 5,
   "metadata": {},
   "outputs": [
    {
     "name": "stdout",
     "output_type": "stream",
     "text": [
      "jax.debug.print(x) -> 0.0\n",
      "jax.debug.print(y) -> 0.0\n",
      "jax.debug.print(x) -> 1.0\n",
      "jax.debug.print(y) -> 0.8414710164070129\n",
      "jax.debug.print(x) -> 2.0\n",
      "jax.debug.print(y) -> 0.9092974662780762\n"
     ]
    }
   ],
   "source": [
    "# a sequential map rather than a vectorization\n",
    "result = jax.lax.map(f, xs)"
   ]
  },
  {
   "cell_type": "code",
   "execution_count": 6,
   "metadata": {},
   "outputs": [
    {
     "name": "stdout",
     "output_type": "stream",
     "text": [
      "jax.debug.print(x) -> 1.0\n"
     ]
    }
   ],
   "source": [
    "def f(x):\n",
    "    jax.debug.print(\"jax.debug.print(x) -> {}\", x)\n",
    "    return x**2\n",
    "\n",
    "\n",
    "result = jax.grad(f)(1.0)"
   ]
  },
  {
   "cell_type": "code",
   "execution_count": null,
   "metadata": {},
   "outputs": [
    {
     "name": "stdout",
     "output_type": "stream",
     "text": [
      "jax.debug.print(x) -> 1\n",
      "jax.debug.print(y) -> 2\n",
      "jax.debug.print(x) -> 1\n",
      "jax.debug.print(y) -> 2\n"
     ]
    },
    {
     "data": {
      "text/plain": [
       "Array(3, dtype=int32, weak_type=True)"
      ]
     },
     "execution_count": 7,
     "metadata": {},
     "output_type": "execute_result"
    }
   ],
   "source": [
    "@jax.jit\n",
    "def f(x, y):\n",
    "    jax.debug.print(\"jax.debug.print(x) -> {}\", x)\n",
    "    jax.debug.print(\"jax.debug.print(y) -> {}\", y)\n",
    "    return x + y\n",
    "\n",
    "\n",
    "f(1, 2)\n",
    "\n",
    "\n",
    "@jax.jit\n",
    "def f(x, y):\n",
    "    jax.debug.print(\"jax.debug.print(x) -> {}\", x, ordered=True)\n",
    "    jax.debug.print(\"jax.debug.print(y) -> {}\", y, ordered=True)\n",
    "    return x + y\n",
    "\n",
    "\n",
    "f(1, 2)"
   ]
  },
  {
   "cell_type": "markdown",
   "metadata": {},
   "source": [
    "# `jax.debug.breakpoint` for `pdb`-like debugging\n",
    "\n",
    "To pause your compiled JAX program during certain points during debugging, you can use `jax.debug.breakpoint()`. The prompt is similar to Python `pdb`, and it allows you to inspect the values in the call stack. In fact, `jax.debug.breakpoint()` is an application of `jax.debug.callback()` that captures information about the call stack.\n",
    "\n",
    "To print all available commands during a `breakpoint` debugging session, use the `help` command. (Full debugger commands, the Sharp Bits, its strengths and limitations are covered in Advanced debugging.)"
   ]
  },
  {
   "cell_type": "code",
   "execution_count": 9,
   "metadata": {},
   "outputs": [
    {
     "name": "stdout",
     "output_type": "stream",
     "text": [
      "Entering jdb:\n",
      "Array(2., dtype=float32)\n",
      "Array(0.90929747, dtype=float32)\n",
      "Array(-0.4161468, dtype=float32)\n",
      "Array(1., dtype=float32)\n",
      "\n",
      "Documented commands (type help <topic>):\n",
      "========================================\n",
      "EOF  c     continue  down  help  list  pp  quit  up  where\n",
      "bt   cont  d         exit  l     p     q   u     w \n",
      "\n"
     ]
    },
    {
     "data": {
      "text/plain": [
       "Array(-0.37840125, dtype=float32, weak_type=True)"
      ]
     },
     "execution_count": 9,
     "metadata": {},
     "output_type": "execute_result"
    }
   ],
   "source": [
    "@jax.jit\n",
    "def f(x):\n",
    "    y, z = jnp.sin(x), jnp.cos(x)\n",
    "    jax.debug.breakpoint()\n",
    "    return y * z\n",
    "\n",
    "\n",
    "f(2.0)  # ==> Pauses during execution"
   ]
  },
  {
   "cell_type": "code",
   "execution_count": 10,
   "metadata": {},
   "outputs": [
    {
     "data": {
      "text/plain": [
       "Array(2., dtype=float32, weak_type=True)"
      ]
     },
     "execution_count": 10,
     "metadata": {},
     "output_type": "execute_result"
    }
   ],
   "source": [
    "def breakpoint_if_nonfinite(x):\n",
    "    is_finite = jnp.isfinite(x).all()\n",
    "\n",
    "    def true_fn(x):\n",
    "        pass\n",
    "\n",
    "    def false_fn(x):\n",
    "        jax.debug.breakpoint()\n",
    "\n",
    "    jax.lax.cond(is_finite, true_fn, false_fn, x)\n",
    "\n",
    "\n",
    "@jax.jit\n",
    "def f(x, y):\n",
    "    z = x / y\n",
    "    breakpoint_if_nonfinite(z)\n",
    "    return z\n",
    "\n",
    "\n",
    "f(2.0, 1.0)  # ==> No breakpoint"
   ]
  },
  {
   "cell_type": "markdown",
   "metadata": {},
   "source": [
    "# `jax.debug.callback` for more control during debugging\n",
    "\n",
    "Both `jax.debug.print()` and `jax.debug.breakpoint()` are implemented using the more flexible `jax.debug.callback()`, which gives greater control over the host-side logic executed via a Python callback. It is compatible with `jax.jit()`, `jax.vmap()`, `jax.grad()` and other transformations (refer to the Flavors of callback table in External callbacks for more information)."
   ]
  },
  {
   "cell_type": "code",
   "execution_count": 11,
   "metadata": {},
   "outputs": [
    {
     "name": "stderr",
     "output_type": "stream",
     "text": [
      "WARNING:root:Logged value: 1.0\n"
     ]
    }
   ],
   "source": [
    "import logging\n",
    "\n",
    "\n",
    "def log_value(x):\n",
    "    logging.warning(f\"Logged value: {x}\")\n",
    "\n",
    "\n",
    "@jax.jit\n",
    "def f(x):\n",
    "    jax.debug.callback(log_value, x)\n",
    "    return x\n",
    "\n",
    "\n",
    "f(1.0);"
   ]
  },
  {
   "cell_type": "code",
   "execution_count": 14,
   "metadata": {},
   "outputs": [
    {
     "name": "stderr",
     "output_type": "stream",
     "text": [
      "WARNING:root:Logged value: 1.0\n",
      "WARNING:root:Logged value: 2.0\n",
      "WARNING:root:Logged value: 3.0\n",
      "WARNING:root:Logged value: 4.0\n",
      "WARNING:root:Logged value: 0.0\n"
     ]
    },
    {
     "data": {
      "text/plain": [
       "Array([0., 1., 2., 3., 4.], dtype=float32)"
      ]
     },
     "execution_count": 14,
     "metadata": {},
     "output_type": "execute_result"
    }
   ],
   "source": [
    "x = jnp.arange(5.0)\n",
    "jax.vmap(f)(x)"
   ]
  },
  {
   "cell_type": "code",
   "execution_count": 15,
   "metadata": {},
   "outputs": [
    {
     "name": "stderr",
     "output_type": "stream",
     "text": [
      "WARNING:root:Logged value: 1.0\n"
     ]
    },
    {
     "data": {
      "text/plain": [
       "Array(1., dtype=float32, weak_type=True)"
      ]
     },
     "execution_count": 15,
     "metadata": {},
     "output_type": "execute_result"
    }
   ],
   "source": [
    "jax.grad(f)(1.0)"
   ]
  },
  {
   "cell_type": "code",
   "execution_count": null,
   "metadata": {},
   "outputs": [],
   "source": []
  }
 ],
 "metadata": {
  "kernelspec": {
   "display_name": ".venv",
   "language": "python",
   "name": "python3"
  },
  "language_info": {
   "codemirror_mode": {
    "name": "ipython",
    "version": 3
   },
   "file_extension": ".py",
   "mimetype": "text/x-python",
   "name": "python",
   "nbconvert_exporter": "python",
   "pygments_lexer": "ipython3",
   "version": "3.10.15"
  }
 },
 "nbformat": 4,
 "nbformat_minor": 2
}
