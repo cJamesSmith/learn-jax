{
 "cells": [
  {
   "cell_type": "markdown",
   "metadata": {},
   "source": [
    "# JAX as NumPy"
   ]
  },
  {
   "cell_type": "code",
   "execution_count": 1,
   "metadata": {},
   "outputs": [],
   "source": [
    "import jax.numpy as jnp"
   ]
  },
  {
   "cell_type": "code",
   "execution_count": 2,
   "metadata": {},
   "outputs": [],
   "source": [
    "def selu(x, alpha=1.67, lmbda=1.05):\n",
    "    return lmbda * jnp.where(x > 0, x, alpha * jnp.exp(x) - alpha)"
   ]
  },
  {
   "cell_type": "code",
   "execution_count": 3,
   "metadata": {},
   "outputs": [
    {
     "data": {
      "text/plain": [
       "Array([0.       , 1.05     , 2.1      , 3.1499999, 4.2      ], dtype=float32)"
      ]
     },
     "execution_count": 3,
     "metadata": {},
     "output_type": "execute_result"
    }
   ],
   "source": [
    "x = jnp.arange(5.0)\n",
    "selu(x)"
   ]
  },
  {
   "cell_type": "code",
   "execution_count": null,
   "metadata": {},
   "outputs": [
    {
     "name": "stdout",
     "output_type": "stream",
     "text": [
      "138 μs ± 5.26 μs per loop (mean ± std. dev. of 7 runs, 10,000 loops each)\n"
     ]
    }
   ],
   "source": [
    "from jax import random\n",
    "\n",
    "key = random.key(1701)\n",
    "x = random.normal(key, shape=(1000000,))\n",
    "%timeit selu(x).block_until_ready()  # if do not use block_until_ready, it will return a false time "
   ]
  },
  {
   "cell_type": "code",
   "execution_count": 5,
   "metadata": {},
   "outputs": [
    {
     "name": "stdout",
     "output_type": "stream",
     "text": [
      "17 μs ± 1.78 μs per loop (mean ± std. dev. of 7 runs, 100,000 loops each)\n"
     ]
    }
   ],
   "source": [
    "from jax import jit\n",
    "\n",
    "selu_jit = jit(selu)\n",
    "_ = selu_jit(x)  # compiles on first call\n",
    "%timeit selu_jit(x).block_until_ready()"
   ]
  },
  {
   "cell_type": "code",
   "execution_count": null,
   "metadata": {},
   "outputs": [
    {
     "name": "stdout",
     "output_type": "stream",
     "text": [
      "[0.25       0.19661194 0.10499357]\n",
      "[0.24998187 0.1965761  0.10502338]\n"
     ]
    }
   ],
   "source": [
    "from jax import grad\n",
    "\n",
    "\n",
    "def sum_logistic(x):\n",
    "    return jnp.sum(1.0 / (1.0 + jnp.exp(-x)))\n",
    "\n",
    "\n",
    "x_small = jnp.arange(3.0)\n",
    "derivative_fn = grad(sum_logistic)\n",
    "print(derivative_fn(x_small))\n",
    "\n",
    "# def first_finite_differences(f, x, eps=1e-3):\n",
    "#     return jnp.array([(f(x + eps * v) - f(x - eps * v)) / (2 * eps)\n",
    "#                    for v in jnp.eye(len(x))])\n",
    "\n",
    "\n",
    "def first_finite_differences(f, x, eps=1e-3):\n",
    "    return jnp.array(\n",
    "        [(f(x + eps * v) - f(x - eps * v)) / (2 * eps) for v in jnp.eye(len(x))]\n",
    "    )\n",
    "\n",
    "\n",
    "print(first_finite_differences(sum_logistic, x_small))"
   ]
  },
  {
   "cell_type": "code",
   "execution_count": null,
   "metadata": {},
   "outputs": [
    {
     "name": "stdout",
     "output_type": "stream",
     "text": [
      "-0.0353256\n"
     ]
    }
   ],
   "source": [
    "print(grad(jit(grad(jit(grad(sum_logistic)))))(1.0))  # grad defind for scaler-function"
   ]
  },
  {
   "cell_type": "code",
   "execution_count": null,
   "metadata": {},
   "outputs": [
    {
     "name": "stdout",
     "output_type": "stream",
     "text": [
      "[[1.        0.        0.       ]\n",
      " [0.        2.7182817 0.       ]\n",
      " [0.        0.        7.389056 ]]\n"
     ]
    }
   ],
   "source": [
    "from jax import jacobian\n",
    "\n",
    "print(jacobian(jnp.exp)(x_small))"
   ]
  },
  {
   "cell_type": "code",
   "execution_count": null,
   "metadata": {},
   "outputs": [
    {
     "name": "stdout",
     "output_type": "stream",
     "text": [
      "[[-0.         -0.         -0.        ]\n",
      " [-0.         -0.09085774 -0.        ]\n",
      " [-0.         -0.         -0.07996248]]\n"
     ]
    }
   ],
   "source": [
    "from jax import jacfwd, jacrev\n",
    "\n",
    "\n",
    "def hessian(fun):\n",
    "    return jit(jacfwd(jacrev(fun)))\n",
    "\n",
    "\n",
    "print(hessian(sum_logistic)(x_small))"
   ]
  },
  {
   "cell_type": "code",
   "execution_count": null,
   "metadata": {},
   "outputs": [
    {
     "name": "stdout",
     "output_type": "stream",
     "text": [
      "Naively batched\n",
      "526 μs ± 4.39 μs per loop (mean ± std. dev. of 7 runs, 1,000 loops each)\n",
      "Manually batched\n",
      "18.1 μs ± 800 ns per loop (mean ± std. dev. of 7 runs, 100,000 loops each)\n",
      "Auto-vectorized with vmap\n",
      "20.2 μs ± 328 ns per loop (mean ± std. dev. of 7 runs, 100,000 loops each)\n"
     ]
    }
   ],
   "source": [
    "key1, key2 = random.split(key)\n",
    "mat = random.normal(key1, (150, 100))\n",
    "batched_x = random.normal(key2, (10, 100))\n",
    "\n",
    "\n",
    "@jit\n",
    "def apply_matrix(x):\n",
    "    return jnp.dot(mat, x)\n",
    "\n",
    "\n",
    "@jit\n",
    "def naively_batched_apply_matrix(v_batched):\n",
    "    return jnp.stack([apply_matrix(v) for v in v_batched])\n",
    "\n",
    "\n",
    "print(\"Naively batched\")\n",
    "%timeit naively_btched_apply_matrix(batched_x).block_until_ready()\n",
    "\n",
    "import numpy as np\n",
    "\n",
    "\n",
    "@jit\n",
    "def batched_apply_matrix(batched_x):\n",
    "    return jnp.dot(batched_x, mat.T)\n",
    "\n",
    "\n",
    "np.testing.assert_allclose(\n",
    "    naively_batched_apply_matrix(batched_x),\n",
    "    batched_apply_matrix(batched_x),\n",
    "    atol=1e-4,\n",
    "    rtol=1e-4,\n",
    ")\n",
    "print(\"Manually batched\")\n",
    "%timeit batched_apply_matrix(batched_x).block_until_ready()\n",
    "\n",
    "from jax import vmap\n",
    "\n",
    "\n",
    "@jit\n",
    "def vmap_batched_apply_matrix(batched_x):\n",
    "    return vmap(apply_matrix)(batched_x)\n",
    "\n",
    "\n",
    "np.testing.assert_allclose(\n",
    "    naively_batched_apply_matrix(batched_x),\n",
    "    vmap_batched_apply_matrix(batched_x),\n",
    "    atol=1e-4,\n",
    "    rtol=1e-4,\n",
    ")\n",
    "print(\"Auto-vectorized with vmap\")\n",
    "%timeit vmap_batched_apply_matrix(batched_x).block_until_ready()"
   ]
  }
 ],
 "metadata": {
  "kernelspec": {
   "display_name": ".venv",
   "language": "python",
   "name": "python3"
  },
  "language_info": {
   "codemirror_mode": {
    "name": "ipython",
    "version": 3
   },
   "file_extension": ".py",
   "mimetype": "text/x-python",
   "name": "python",
   "nbconvert_exporter": "python",
   "pygments_lexer": "ipython3",
   "version": "3.10.15"
  }
 },
 "nbformat": 4,
 "nbformat_minor": 2
}
